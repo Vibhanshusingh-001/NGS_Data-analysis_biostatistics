{
 "cells": [
  {
   "cell_type": "code",
   "execution_count": null,
   "metadata": {},
   "outputs": [
    {
     "name": "stdout",
     "output_type": "stream",
     "text": [
      "   Tissue  Median        Mean       StdDev        CV CpG_Column\n",
      "0   Islet    63.0  118.133494   141.621767  1.198828       `000\n",
      "1   cfDNA   405.0  901.169325  1233.919835  1.369243       `000\n",
      "2   Islet     0.0    4.402681    12.755097  2.897120       `001\n",
      "3   cfDNA     0.0   17.330328    54.140656  3.124041       `001\n",
      "4   Islet     0.0    3.589680     9.730253  2.710618       `010\n",
      "5   cfDNA     0.0   15.344916    46.082402  3.003106       `010\n",
      "6   Islet     0.0    3.060584    11.957123  3.906811       `011\n",
      "7   cfDNA     0.0    9.161572    55.538270  6.062089       `011\n",
      "8   Islet     0.0    3.681242    10.099163  2.743412       `100\n",
      "9   cfDNA     0.0   17.711453    51.283167  2.895480       `100\n",
      "10  Islet     0.0    2.356705     9.666206  4.101577       `101\n",
      "11  cfDNA     0.0    5.381630    37.341554  6.938707       `101\n",
      "12  Islet     0.0    2.624350    10.502492  4.001940       `110\n",
      "13  cfDNA     0.0    8.538782    53.006639  6.207752       `110\n",
      "14  Islet     0.0    9.510754    32.844280  3.453383       `111\n",
      "15  cfDNA     0.0   38.870233   223.479932  5.749385       `111\n"
     ]
    }
   ],
   "source": [
    "import pandas as pd\n",
    "\n",
    "\n",
    "df = pd.read_csv('PupilBioTest.csv')\n",
    "\n",
    "# Columns for single CpG coverage\n",
    "cpg_columns = ['`000', '`001', '`010', '`011', '`100', '`101', '`110', '`111']\n",
    "\n",
    "# dictionary to store metrics for each cpg column\n",
    "results = []\n",
    "\n",
    "# loop through each CpG column\n",
    "for cpg in cpg_columns:\n",
    "    # grouped by tissue\n",
    "    grouped = df.groupby('Tissue')[cpg].agg(\n",
    "        Median='median',\n",
    "        Mean='mean',\n",
    "        StdDev='std'\n",
    "    ).reset_index()\n",
    "    \n",
    "    \n",
    "    grouped['CV'] = grouped['StdDev'] / grouped['Mean']\n",
    "    \n",
    "    # add a column to indicate which CpG column this analysis belongs to\n",
    "    grouped['CpG_Column'] = cpg\n",
    "    \n",
    "    # append the result for this CpG column to the results list\n",
    "    results.append(grouped)\n",
    "\n",
    "# merge all results\n",
    "final_results = pd.concat(results, ignore_index=True)\n",
    "\n",
    "final_results.to_csv('single_cpg_coverage_statistics.csv', index=False)\n",
    "print(final_results)\n"
   ]
  }
 ],
 "metadata": {
  "kernelspec": {
   "display_name": "Python 3",
   "language": "python",
   "name": "python3"
  },
  "language_info": {
   "codemirror_mode": {
    "name": "ipython",
    "version": 3
   },
   "file_extension": ".py",
   "mimetype": "text/x-python",
   "name": "python",
   "nbconvert_exporter": "python",
   "pygments_lexer": "ipython3",
   "version": "3.12.6"
  }
 },
 "nbformat": 4,
 "nbformat_minor": 2
}
