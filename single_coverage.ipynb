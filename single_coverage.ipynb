
   "source": [
    "import pandas as pd\n",
    "\n",
    "# Load your dataset (replace 'data.csv' with the actual path to your CSV file)\n",
    "df = pd.read_csv('PupilBioTest.csv')\n",
    "\n",
    "# Columns for single CpG coverage\n",
    "cpg_columns = ['`000', '`001', '`010', '`011', '`100', '`101', '`110', '`111']\n",
    "\n",
    "# Initialize a results dictionary to store metrics for each CpG column\n",
    "results = []\n",
    "\n",
    "# Loop through each CpG column and calculate statistics\n",
    "for cpg in cpg_columns:\n",
    "    # Group by Tissue and calculate Median, Mean, StdDev, and CV for the current CpG column\n",
    "    grouped = df.groupby('Tissue')[cpg].agg(\n",
    "        Median='median',\n",
    "        Mean='mean',\n",
    "        StdDev='std'\n",
    "    ).reset_index()\n",
    "    \n",
    "    # Add CV (Coefficient of Variation) to the grouped data\n",
    "    grouped['CV'] = grouped['StdDev'] / grouped['Mean']\n",
    "    \n",
    "    # Add a column to indicate which CpG column this analysis belongs to\n",
    "    grouped['CpG_Column'] = cpg\n",
    "    \n",
    "    # Append the result for this CpG column to the results list\n",
    "    results.append(grouped)\n",
    "\n",
    "# Concatenate all results into a single DataFrame\n",
    "final_results = pd.concat(results, ignore_index=True)\n",
    "\n",
    "# Save the results to a CSV file or print them\n",
    "final_results.to_csv('single_cpg_coverage_statistics.csv', index=False)\n",
    "print(final_results)\n"
   ]
  },
  {
   "cell_type": "code",
   "execution_count": null,
   "metadata": {},
   "outputs": [],
   "source": [
    "import pandas as pd\n",
    "\n",
    "# Load your dataset\n",
    "# Replace 'data.csv' with the path to your file\n",
    "df = pd.read_csv('PupilBioTest.csv')\n",
    "\n",
    "# Calculate total CpG coverage for each row\n",
    "df['Total_Coverage'] = df[['`000']].sum(axis=1)\n",
    "\n",
    "# Group by Tissue\n",
    "grouped = df.groupby('Tissue')\n",
    "\n",
    "# Calculate Median and Coefficient of Variation (CV)\n",
    "results = grouped['Total_Coverage'].agg(\n",
    "    Median='median',\n",
    "    Mean='mean',\n",
    "    StdDev='std'\n",
    ")\n",
    "results['CV'] = results['StdDev'] / results['Mean']\n",
    "\n",
    "# Save results to a CSV or print them\n",
    "results.to_csv('coverage_statistics_000.csv')\n",
    "print(results)"
   ]
  }
 ],
 "metadata": {
  "kernelspec": {
   "display_name": "virenv",
   "language": "python",
   "name": "python3"
  },
  "language_info": {
   "codemirror_mode": {
    "name": "ipython",
    "version": 3
   },
   "file_extension": ".py",
   "mimetype": "text/x-python",
   "name": "python",
   "nbconvert_exporter": "python",
   "pygments_lexer": "ipython3",
   "version": "3.12.0"
  }
 },
 "nbformat": 4,
 "nbformat_minor": 2
}
